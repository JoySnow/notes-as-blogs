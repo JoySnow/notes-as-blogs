{
 "cells": [
  {
   "cell_type": "code",
   "execution_count": 3,
   "metadata": {},
   "outputs": [
    {
     "data": {
      "text/plain": [
       "[0, 1, 2, 3]"
      ]
     },
     "execution_count": 3,
     "metadata": {},
     "output_type": "execute_result"
    }
   ],
   "source": [
    "[hash(v) for v in (0, 1, 2, 3)]"
   ]
  },
  {
   "cell_type": "code",
   "execution_count": 4,
   "metadata": {},
   "outputs": [
    {
     "data": {
      "text/plain": [
       "[-4154337832941740556,\n",
       " 7751246281088886980,\n",
       " 1060499909237031798,\n",
       " 2686476432335111919]"
      ]
     },
     "execution_count": 4,
     "metadata": {},
     "output_type": "execute_result"
    }
   ],
   "source": [
    "[hash(v) for v in (\"namea\", \"nameb\", \"namec\", \"named\")]"
   ]
  },
  {
   "cell_type": "code",
   "execution_count": 26,
   "metadata": {},
   "outputs": [
    {
     "data": {
      "text/plain": [
       "(-9178293282215004519, 1, 8490315224035172066, 2)"
      ]
     },
     "execution_count": 26,
     "metadata": {},
     "output_type": "execute_result"
    }
   ],
   "source": [
    "hash('a'), hash('a') & 7 , hash('b'), hash('b') & 7 "
   ]
  },
  {
   "cell_type": "code",
   "execution_count": 8,
   "metadata": {},
   "outputs": [
    {
     "data": {
      "text/plain": [
       "(-1517541376421852839, 1)"
      ]
     },
     "execution_count": 8,
     "metadata": {},
     "output_type": "execute_result"
    }
   ],
   "source": [
    "hash('z'), hash('z') & 7"
   ]
  },
  {
   "cell_type": "code",
   "execution_count": 9,
   "metadata": {},
   "outputs": [],
   "source": [
    "# -----------------------------------------------------------"
   ]
  },
  {
   "cell_type": "code",
   "execution_count": 27,
   "metadata": {},
   "outputs": [],
   "source": [
    "\"\"\"\n",
    "A Python dict implementation.\n",
    "\"\"\"\n",
    "\n",
    "import collections\n",
    "import pprint\n",
    "\n",
    "MINSIZE = 8\n",
    "PERTURB_SHIFT = 5\n",
    "dummy = \"<dummy key>\"\n"
   ]
  },
  {
   "cell_type": "code",
   "execution_count": 28,
   "metadata": {},
   "outputs": [],
   "source": [
    "\n",
    "class Entry(object):\n",
    "    \"\"\"\n",
    "    A hash table entry.\n",
    "\n",
    "    Attributes:\n",
    "       * key - The key for this entry.\n",
    "       * hash - The has of the key.\n",
    "       * value - The value associated with the key.\n",
    "    \"\"\"\n",
    "\n",
    "    __slots__ = (\"key\", \"value\", \"hash\")\n",
    "\n",
    "    def __init__(self):\n",
    "        self.key = None\n",
    "        self.value = None\n",
    "        self.hash = 0\n",
    "\n",
    "    def __repr__(self):\n",
    "        return \"<Entry: key={0} value={1}>\".format(self.key, self.value)\n"
   ]
  },
  {
   "cell_type": "code",
   "execution_count": 34,
   "metadata": {},
   "outputs": [],
   "source": [
    "\n",
    "class Dict(object):\n",
    "    \"\"\"\n",
    "    A mapping interface implemented as a hash table.\n",
    "\n",
    "    Attributes:\n",
    "        * used - The number of entires used in the table.\n",
    "        * filled - used + number of entries with a dummy key.\n",
    "        * table - List of entries; contains the actual dict data.\n",
    "        * mask - Length of table - 1. Used to fetch values.\n",
    "    \"\"\"\n",
    "\n",
    "    __slots__ = (\"filled\", \"used\", \"mask\", \"table\")\n",
    "\n",
    "    \n",
    "    def __init__(self, arg=None, **kwargs):\n",
    "        \"\"\"\n",
    "        https://github.com/python/cpython/blame/3.7/Objects/dictobject.c#L671\n",
    "        \"\"\"\n",
    "        self.clear()\n",
    "        self._update(arg, kwargs)\n",
    "\n",
    "    @classmethod\n",
    "    def fromkeys(cls, keys, value=0):\n",
    "        \"\"\"\n",
    "        Return a new dictionary from a sequence of keys.\n",
    "        \"\"\"\n",
    "        d = cls()\n",
    "        for key in keys:\n",
    "            d[key] = value\n",
    "        return d\n",
    "\n",
    "    def clear(self):\n",
    "        \"\"\"\n",
    "        Clear the dictionary of all data.\n",
    "        \"\"\"\n",
    "        self.filled = 0\n",
    "        self.used = 0\n",
    "        self.mask = MINSIZE - 1\n",
    "        self.table = []\n",
    "        # Initialize the table to a clean slate of entries.\n",
    "        for i in range(MINSIZE):\n",
    "            self.table.append(Entry())\n",
    "\n",
    "    def pop(self, *args):\n",
    "        \"\"\"\n",
    "        Remove and return the value for a key.\n",
    "        \"\"\"\n",
    "        have_default = len(args) == 2\n",
    "        try:\n",
    "            v = self[args[0]]\n",
    "        except KeyError:\n",
    "            if have_default:\n",
    "                return args[1]\n",
    "            raise\n",
    "        else:\n",
    "            del self[args[0]]  # call __delitem__\n",
    "            return v\n",
    "\n",
    "    def popitem(self):\n",
    "        \"\"\"\n",
    "        Remove and return any key-value pair from the dictionary.\n",
    "        Note:\n",
    "            Changed in version 3.7: LIFO order is now guaranteed.\n",
    "            In prior versions, popitem() would return an arbitrary key/value pair.\n",
    "            Here return an arbitrary key/value pair.\n",
    "        \"\"\"\n",
    "        if self.used == 0:\n",
    "            raise KeyError(\"empty dictionary\")\n",
    "        entry0 = self.table[0]\n",
    "        entry = entry0\n",
    "        i = 0\n",
    "        if entry0.value is None:\n",
    "            # The first entry in the table's hash is abused to hold the index to\n",
    "            # the next place to look for a value to pop.\n",
    "            i = entry0.hash\n",
    "            # Make the i in range [1, self.mask].\n",
    "            if i > self.mask or i < 1:\n",
    "                i = 1\n",
    "            entry = self.table[i]\n",
    "            while entry.value is None:\n",
    "                i += 1\n",
    "                if i > self.mask:\n",
    "                    i = 1\n",
    "                entry = self.table[i]\n",
    "        res = entry.key, entry.value\n",
    "        self._del(entry)\n",
    "        # Set the next place to start.\n",
    "        entry0.hash = i + 1\n",
    "        return res\n",
    "\n",
    "    def setdefault(self, key, default=0):\n",
    "        \"\"\"\n",
    "        If key is in the dictionary, return it. Otherwise, set it to the default\n",
    "        value.\n",
    "        \"\"\"\n",
    "        val = self._lookup(key).value\n",
    "        if val is None:\n",
    "            self[key] = default\n",
    "            return default\n",
    "        return val\n",
    "\n",
    "    def _lookup(self, key):\n",
    "        \"\"\"\n",
    "        Find the entry for a key.\n",
    "        \"\"\"\n",
    "        key_hash = hash(key)\n",
    "        i = key_hash & self.mask\n",
    "        entry = self.table[i]\n",
    "        if entry.key is None or entry is key:\n",
    "            return entry\n",
    "        free = None\n",
    "        if entry.key is dummy:\n",
    "            free = entry\n",
    "        elif entry.hash == key_hash and key == entry.key:\n",
    "            return entry\n",
    "\n",
    "        perturb = key_hash\n",
    "        while True:\n",
    "            i = (i << 2) + i + perturb + 1;\n",
    "            entry = self.table[i & self.mask]\n",
    "            if entry.key is None:\n",
    "                return entry if free is None else free\n",
    "            if entry.key is key or \\\n",
    "                    (entry.hash == key_hash and key == entry.key):\n",
    "                return entry\n",
    "            elif entry.key is dummy and free is None:\n",
    "                free = dummy\n",
    "            perturb >>= PERTURB_SHIFT\n",
    "\n",
    "        assert False, \"not reached\"\n",
    "\n",
    "    def _resize(self, minused):\n",
    "        \"\"\"\n",
    "        Resize the dictionary to at least minused.\n",
    "        \"\"\"\n",
    "        print(\"Calling _resize with: \", minused)\n",
    "        newsize = MINSIZE\n",
    "        # Find the smalled value for newsize.\n",
    "        while newsize <= minused and newsize > 0:\n",
    "            newsize <<= 1\n",
    "        oldtable = self.table\n",
    "        # Create a new table newsize long, for space claiming.\n",
    "        newtable = []\n",
    "        while len(newtable) < newsize:\n",
    "            newtable.append(Entry())\n",
    "        # Replace the old table.\n",
    "        self.table = newtable\n",
    "        self.used = 0\n",
    "        self.filled = 0\n",
    "        # Copy the old data into the new table.\n",
    "        for entry in oldtable:\n",
    "            if entry.value is not None:\n",
    "                self._insert_into_clean(entry)\n",
    "            elif entry.key is dummy:\n",
    "                entry.key = None\n",
    "        # TODO: \n",
    "        #    Why not assign self.mask before the above for loop,\n",
    "        #    to let _insert_into_clean use new self.mask ???\n",
    "        self.mask = newsize - 1\n",
    "        \n",
    "\n",
    "    def _insert_into_clean(self, entry):\n",
    "        \"\"\"\n",
    "        Insert an item in a clean dict. This is a helper for resizing.\n",
    "        \"\"\"\n",
    "        i = entry.hash & self.mask\n",
    "        new_entry = self.table[i]\n",
    "        perturb = entry.hash\n",
    "        while new_entry.key is not None:\n",
    "            i = (i << 2) + i + perturb + 1\n",
    "            new_entry = self.table[i & self.mask]\n",
    "            perturb >>= PERTURB_SHIFT\n",
    "        new_entry.key = entry.key\n",
    "        new_entry.value = entry.value\n",
    "        new_entry.hash = entry.hash\n",
    "        self.used += 1\n",
    "        self.filled += 1\n",
    "\n",
    "    def _insert(self, key, value):\n",
    "        \"\"\"\n",
    "        Add a new value to the dictionary or replace an old one.\n",
    "        \"\"\"\n",
    "        entry = self._lookup(key)\n",
    "        if entry.value is None:\n",
    "            self.used += 1\n",
    "            if entry.key is not dummy:\n",
    "                self.filled += 1\n",
    "        entry.key = key\n",
    "        entry.hash = hash(key)\n",
    "        entry.value = value\n",
    "\n",
    "    def _del(self, entry):\n",
    "        \"\"\"\n",
    "        Mark an entry as free with the dummy key.\n",
    "        \"\"\"\n",
    "        print(\"Calling _del with: \", entry)\n",
    "        entry.key = dummy\n",
    "        entry.value = None\n",
    "        self.used -= 1\n",
    "\n",
    "    def __getitem__(self, key):\n",
    "        value = self._lookup(key).value\n",
    "        if value is None:\n",
    "            # Check if we're a subclass.\n",
    "            if type(self) is not Dict:\n",
    "                # Try to call the __missing__ method.\n",
    "                missing = getattr(self, \"__missing__\")\n",
    "                if missing is not None:\n",
    "                    return missing(key)\n",
    "            raise KeyError(\"no such key: {0!r}\".format(key))\n",
    "        return value\n",
    "\n",
    "    def __setitem__(self, key, what):\n",
    "        # None is used as a marker for empty entries, so it can't be in a\n",
    "        # dictionary.\n",
    "        print(\"Calling __setitem__ with: \", key, what)\n",
    "        assert what is not None and key is not None, \\\n",
    "            \"key and value must not be None\"\n",
    "        old_used = self.used\n",
    "        self._insert(key, what)\n",
    "        # Maybe resize the dict.\n",
    "        if not (self.used > old_used and\n",
    "                self.filled*3 >= (self.mask + 1)*2):\n",
    "            return\n",
    "        # Large dictionaries (< 5000) are only doubled in size.\n",
    "        factor = 2 if self.used > 5000 else 4\n",
    "        self._resize(factor*self.used)\n",
    "\n",
    "    def __delitem__(self, key):\n",
    "        entry = self._lookup(key)\n",
    "        if entry.value is None:\n",
    "            raise KeyError(\"no such key: {0!r}\".format(key))\n",
    "        self._del(entry)\n",
    "\n",
    "    def __contains__(self, key):\n",
    "        \"\"\"\n",
    "        Check if a key is in the dictionary.\n",
    "        \"\"\"\n",
    "        return self._lookup(key).value is not None\n",
    "\n",
    "    def __eq__(self, other):\n",
    "        if not isinstance(other, Dict):\n",
    "            try:\n",
    "                # Try to coerce the other to a Dict, so we can compare it.\n",
    "                other = Dict(other)\n",
    "            except TypeError:\n",
    "                \n",
    "                return NotImplemented\n",
    "        if self.used != other.used:\n",
    "            # They're not the same size.\n",
    "            return False\n",
    "        # Look through the table and compare every entry, breaking out early if\n",
    "        # we find a difference.\n",
    "        for entry in self.table:\n",
    "            if entry.value is not None:\n",
    "                try:\n",
    "                    bval = other[entry.key]\n",
    "                except KeyError:\n",
    "                    return False\n",
    "                if not bval == entry.value:\n",
    "                    return False\n",
    "        return True\n",
    "\n",
    "    def __ne__(self, other):\n",
    "        return not self == other\n",
    "\n",
    "    def keys(self):\n",
    "        \"\"\"\n",
    "        Return a list of keys in the dictionary.\n",
    "        \"\"\"\n",
    "        return [entry.key for entry in self.table if entry.value is not None]\n",
    "\n",
    "    def values(self):\n",
    "        \"\"\"\n",
    "        Return a list of values in the dictionary.\n",
    "        \"\"\"\n",
    "        return [entry.value for entry in self.table if entry.value is not None]\n",
    "\n",
    "    def items(self):\n",
    "        \"\"\"\n",
    "        Return a list of key-value pairs.\n",
    "        \"\"\"\n",
    "        print(\"Calling items ...\")\n",
    "        return [(entry.key, entry.value) for entry in self.table\n",
    "                if entry.value is not None]\n",
    "\n",
    "    def __iter__(self):\n",
    "        print(\"Calling __iter__ ...\")\n",
    "        return DictKeysIterator(self)\n",
    "\n",
    "    def itervalues(self):\n",
    "        \"\"\"\n",
    "        Return an iterator over the values in the dictionary.\n",
    "        \"\"\"\n",
    "        print(\"Calling itervalues ...\")\n",
    "        return DictValuesIterator(self)\n",
    "\n",
    "    def iterkeys(self):\n",
    "        \"\"\"\n",
    "        Return an iterator over the keys in the dictionary.\n",
    "        \"\"\"\n",
    "        print(\"Calling iterkeys ...\")\n",
    "        return DictKeysIterator(self)\n",
    "\n",
    "    def iteritems(self):\n",
    "        \"\"\"\n",
    "        Return an iterator over key-value pairs.\n",
    "        \"\"\"\n",
    "        print(\"Calling iteritems ...\")\n",
    "        return DictItemsIterator(self)\n",
    "\n",
    "    def _merge(self, mapping):\n",
    "        \"\"\"\n",
    "        Update the dictionary from a mapping.\n",
    "        \"\"\"\n",
    "        for key in mapping.keys():\n",
    "            self[key] = mapping[key]\n",
    "\n",
    "    def _from_sequence(self, seq):\n",
    "        for double in seq:\n",
    "            if len(double) != 2:\n",
    "                raise ValueError(\"{0!r} doesn't have a length of 2\".format(\n",
    "                        double))\n",
    "            self[double[0]] = double[1]\n",
    "\n",
    "    def _update(self, arg, kwargs):\n",
    "        print(\"Calling _update with: \", arg, kwargs)\n",
    "        if arg:\n",
    "            # arg is also a instance of Mapping.\n",
    "            if isinstance(arg, collections.Mapping):\n",
    "                self._merge(arg)\n",
    "            else:\n",
    "                self._from_sequence(arg)\n",
    "        # Handle when calling with self._update(one=1, two=2, three=3)\n",
    "        if kwargs:\n",
    "            self._merge(kwargs)\n",
    "\n",
    "    def update(self, arg=None, **kwargs):\n",
    "        \"\"\"\n",
    "        Update the dictionary from a mapping or sequence containing key-value\n",
    "        pairs. Any existing values are overwritten.\n",
    "        \"\"\"\n",
    "        self._update(arg, kwargs)\n",
    "\n",
    "    def get(self, key, default=0):\n",
    "        \"\"\"\n",
    "        Return the value for key if it exists otherwise the default.\n",
    "        \"\"\"\n",
    "        try:\n",
    "            return self[key]\n",
    "        except KeyError:\n",
    "            return default\n",
    "\n",
    "    def __len__(self):\n",
    "        return self.used\n",
    "\n",
    "    def __repr__(self):\n",
    "        r = [\"{0!r} : {1!r}\".format(k, v) for k, v in self.iteritems()]\n",
    "        return \"Dict({\" + \", \".join(r) + \"})\"\n",
    "\n",
    "\n",
    "collections.Mapping.register(Dict) \n",
    "# https://docs.python.org/3/library/abc.html#abc.ABCMeta.register\n",
    "\n",
    "\n",
    "class DictIterator(object):\n",
    "\n",
    "    def __init__(self, d):\n",
    "        self.d = d\n",
    "        self.used = self.d.used\n",
    "        self.len = self.d.used\n",
    "        self.pos = 0\n",
    "\n",
    "    def __iter__(self):\n",
    "        return self\n",
    "\n",
    "    def next(self):\n",
    "        # Check if the dictionary has been mutated under us.\n",
    "        if self.used != self.d.used:\n",
    "            # Make this state permanent.\n",
    "            self.used = -1\n",
    "            raise RuntimeError(\"dictionary size changed during interation\")\n",
    "        i = self.pos\n",
    "        while i <= self.d.mask and self.d.table[i].value is None:\n",
    "            i += 1\n",
    "        self.pos = i + 1\n",
    "        if i > self.d.mask:\n",
    "            # We're done.\n",
    "            raise StopIteration\n",
    "        self.len -= 1\n",
    "        return self._extract(self.d.table[i])\n",
    "\n",
    "    __next__ = next\n",
    "\n",
    "    def _extract(self, entry):\n",
    "        return getattr(entry, self.kind)\n",
    "\n",
    "    def __len__(self):\n",
    "        return self.len\n",
    "\n",
    "class DictKeysIterator(DictIterator):\n",
    "    kind = \"key\"\n",
    "\n",
    "class DictValuesIterator(DictIterator):\n",
    "    kind = \"value\"\n",
    "\n",
    "class DictItemsIterator(DictIterator):\n",
    "\n",
    "    def _extract(self, entry):\n",
    "        return entry.key, entry.value"
   ]
  },
  {
   "cell_type": "code",
   "execution_count": 30,
   "metadata": {
    "scrolled": true
   },
   "outputs": [
    {
     "data": {
      "text/plain": [
       "['__class__',\n",
       " '__contains__',\n",
       " '__delattr__',\n",
       " '__delitem__',\n",
       " '__dir__',\n",
       " '__doc__',\n",
       " '__eq__',\n",
       " '__format__',\n",
       " '__ge__',\n",
       " '__getattribute__',\n",
       " '__getitem__',\n",
       " '__gt__',\n",
       " '__hash__',\n",
       " '__init__',\n",
       " '__init_subclass__',\n",
       " '__iter__',\n",
       " '__le__',\n",
       " '__len__',\n",
       " '__lt__',\n",
       " '__module__',\n",
       " '__ne__',\n",
       " '__new__',\n",
       " '__reduce__',\n",
       " '__reduce_ex__',\n",
       " '__repr__',\n",
       " '__setattr__',\n",
       " '__setitem__',\n",
       " '__sizeof__',\n",
       " '__slots__',\n",
       " '__str__',\n",
       " '__subclasshook__',\n",
       " '_del',\n",
       " '_from_sequence',\n",
       " '_insert',\n",
       " '_insert_into_clean',\n",
       " '_lookup',\n",
       " '_merge',\n",
       " '_resize',\n",
       " '_update',\n",
       " 'clear',\n",
       " 'filled',\n",
       " 'fromkeys',\n",
       " 'get',\n",
       " 'items',\n",
       " 'iteritems',\n",
       " 'iterkeys',\n",
       " 'itervalues',\n",
       " 'keys',\n",
       " 'mask',\n",
       " 'pop',\n",
       " 'popitem',\n",
       " 'setdefault',\n",
       " 'table',\n",
       " 'update',\n",
       " 'used',\n",
       " 'values']"
      ]
     },
     "execution_count": 30,
     "metadata": {},
     "output_type": "execute_result"
    }
   ],
   "source": [
    "dir(Dict)"
   ]
  },
  {
   "cell_type": "code",
   "execution_count": 36,
   "metadata": {},
   "outputs": [
    {
     "name": "stdout",
     "output_type": "stream",
     "text": [
      "Calling _update with:  None {'one': 1, 'two': 2, 'three': 3}\n",
      "Calling __setitem__ with:  one 1\n",
      "Calling __setitem__ with:  two 2\n",
      "Calling __setitem__ with:  three 3\n",
      "Calling _update with:  {'one': 1, 'two': 2, 'three': 3} {}\n",
      "Calling __setitem__ with:  one 1\n",
      "Calling __setitem__ with:  two 2\n",
      "Calling __setitem__ with:  three 3\n",
      "Calling _update with:  <zip object at 0x7f3358083048> {}\n",
      "Calling __setitem__ with:  one 1\n",
      "Calling __setitem__ with:  two 2\n",
      "Calling __setitem__ with:  three 3\n",
      "Calling _update with:  [('two', 2), ('one', 1), ('three', 3)] {}\n",
      "Calling __setitem__ with:  two 2\n",
      "Calling __setitem__ with:  one 1\n",
      "Calling __setitem__ with:  three 3\n",
      "Calling _update with:  {'three': 3, 'one': 1, 'two': 2} {}\n",
      "Calling __setitem__ with:  three 3\n",
      "Calling __setitem__ with:  one 1\n",
      "Calling __setitem__ with:  two 2\n",
      "Calling _update with:  [('two', 2), ('one', 1), ('three', 3)] {'one': 1, 'two': 2, 'three': 3}\n",
      "Calling __setitem__ with:  two 2\n",
      "Calling __setitem__ with:  one 1\n",
      "Calling __setitem__ with:  three 3\n",
      "Calling __setitem__ with:  one 1\n",
      "Calling __setitem__ with:  two 2\n",
      "Calling __setitem__ with:  three 3\n"
     ]
    }
   ],
   "source": [
    "# https://docs.python.org/3/library/stdtypes.html#mapping-types-dict\n",
    "\n",
    "# Init\n",
    "a = Dict(one=1, two=2, three=3)\n",
    "b = Dict({'one': 1, 'two': 2, 'three': 3})\n",
    "c = Dict(zip(['one', 'two', 'three'], [1, 2, 3]))\n",
    "d = Dict([('two', 2), ('one', 1), ('three', 3)])\n",
    "e = Dict({'three': 3, 'one': 1, 'two': 2})\n",
    "a == b == c == d == e\n",
    "a = Dict([('two', 2), ('one', 1), ('three', 3)], one=1, two=2, three=3)\n"
   ]
  },
  {
   "cell_type": "code",
   "execution_count": 32,
   "metadata": {},
   "outputs": [
    {
     "name": "stdout",
     "output_type": "stream",
     "text": [
      "Calling _update with:  None {}\n",
      "Calling __setitem__ with:  two 2\n",
      "Calling __setitem__ with:  three 3\n",
      "Calling iteritems ...\n",
      "Dict({'two' : 2, 'three' : 3})\n"
     ]
    },
    {
     "data": {
      "text/plain": [
       "(2, 2)"
      ]
     },
     "execution_count": 32,
     "metadata": {},
     "output_type": "execute_result"
    }
   ],
   "source": [
    "# Insert & Get \n",
    "\n",
    "f = Dict()\n",
    "f['two'] = 2\n",
    "f.setdefault('three', 3)\n",
    "print(f)\n",
    "f['two'], f.get('two')"
   ]
  },
  {
   "cell_type": "code",
   "execution_count": 33,
   "metadata": {},
   "outputs": [
    {
     "name": "stdout",
     "output_type": "stream",
     "text": [
      "Calling _update with:  None {'one': 1, 'two': 2, 'three': 3}\n",
      "Calling __setitem__ with:  one 1\n",
      "Calling __setitem__ with:  two 2\n",
      "Calling __setitem__ with:  three 3\n",
      "Calling _del with:  <Entry: key=two value=2>\n",
      "Calling _del with:  <Entry: key=three value=3>\n",
      "Calling _del with:  <Entry: key=one value=1>\n",
      "Calling iteritems ...\n",
      "Dict({})\n",
      "Calling __setitem__ with:  Five 5\n",
      "Calling iteritems ...\n"
     ]
    },
    {
     "data": {
      "text/plain": [
       "(100, 2, ('three', 3), ('one', 1), Dict({}))"
      ]
     },
     "execution_count": 33,
     "metadata": {},
     "output_type": "execute_result"
    }
   ],
   "source": [
    "# Delete\n",
    "g = Dict(one=1, two=2, three=3)\n",
    "t1 = g.pop('zero', 100)\n",
    "t2 = g.pop('two')\n",
    "t3 = g.popitem()\n",
    "t4 = g.popitem()\n",
    "print(g)\n",
    "g['Five'] = 5\n",
    "g.clear()\n",
    "\n",
    "t1, t2, t3, t4, g"
   ]
  },
  {
   "cell_type": "code",
   "execution_count": 17,
   "metadata": {},
   "outputs": [
    {
     "name": "stdout",
     "output_type": "stream",
     "text": [
      "Calling _update with:  None {}\n",
      "Calling __setitem__ with:  key1 value1\n",
      "[<Entry: key=None value=None>,\n",
      " <Entry: key=None value=None>,\n",
      " <Entry: key=None value=None>,\n",
      " <Entry: key=key1 value=value1>,\n",
      " <Entry: key=None value=None>,\n",
      " <Entry: key=None value=None>,\n",
      " <Entry: key=None value=None>,\n",
      " <Entry: key=None value=None>]\n",
      "Calling iteritems ...\n",
      "Dict({'key1' : 'value1'}) <class '__main__.Dict'> 1 8\n",
      "----------------------------\n",
      "Calling _update with:  <zip object at 0x7f335f478448> {}\n",
      "Calling __setitem__ with:  0 0\n",
      "Calling __setitem__ with:  1 1\n",
      "Calling __setitem__ with:  2 2\n",
      "Calling __setitem__ with:  3 3\n",
      "Calling __setitem__ with:  4 4\n",
      "Calling _resize with:  24\n",
      "Calling __setitem__ with:  5 5\n",
      "Calling __setitem__ with:  6 6\n",
      "Calling __setitem__ with:  7 7\n",
      "Calling __setitem__ with:  8 8\n",
      "Calling __setitem__ with:  9 9\n",
      "Calling iteritems ...\n",
      "Dict({0 : 0, 1 : 1, 2 : 2, 'key1' : 'value1', 4 : 4, 5 : 5, 3 : 3, 7 : 7, 8 : 8, 9 : 9, 6 : 6}) <class '__main__.Dict'> 11 32\n"
     ]
    }
   ],
   "source": [
    "# Update & Dict resizing\n",
    "d = Dict()\n",
    "#print(d, type(d))\n",
    "d['key1'] = 'value1'\n",
    "pprint.pprint(d.table)\n",
    "print(d, type(d), d.used, d.mask+1)\n",
    "print(\"----------------------------\")\n",
    "d.update(zip(range(10), range(10)))\n",
    "print(d, type(d), d.used, d.mask+1)\n"
   ]
  },
  {
   "cell_type": "code",
   "execution_count": 18,
   "metadata": {},
   "outputs": [
    {
     "name": "stdout",
     "output_type": "stream",
     "text": [
      "Calling _update with:  <zip object at 0x7f3358098288> {}\n",
      "Calling __setitem__ with:  One 0\n",
      "Calling __setitem__ with:  Two 1\n",
      "Calling __setitem__ with:  Thr 2\n",
      "Calling __setitem__ with:  For 3\n",
      "----------------------------\n",
      "Calling __iter__ ...\n",
      "For 3\n",
      "Two 1\n",
      "One 0\n",
      "Thr 2\n",
      "----------------------------\n",
      "Calling items ...\n",
      "For 3\n",
      "Two 1\n",
      "One 0\n",
      "Thr 2\n",
      "----------------------------\n",
      "['For', 'Two', 'One', 'Thr']\n",
      "[3, 1, 0, 2]\n",
      "----------------------------\n",
      "Calling itervalues ...\n",
      "<__main__.DictValuesIterator object at 0x7f33580e49b0> <class '__main__.DictValuesIterator'>\n",
      "3\n",
      "1\n",
      "0\n",
      "2\n",
      "----------------------------\n"
     ]
    }
   ],
   "source": [
    "# Iterate\n",
    "d = Dict(zip(['One', 'Two', 'Thr', 'For'], range(4)))\n",
    "print(\"----------------------------\")\n",
    "\n",
    "for k in d:\n",
    "    print(k, d[k])\n",
    "print(\"----------------------------\")\n",
    "\n",
    "for k, v in d.items():\n",
    "    print(k, v)\n",
    "print(\"----------------------------\")\n",
    "\n",
    "print(d.keys())\n",
    "print(d.values())\n",
    "print(\"----------------------------\")\n",
    "\n",
    "dv = d.itervalues()\n",
    "print(dv, type(dv))\n",
    "for v in dv:\n",
    "    print(v)\n",
    "print(\"----------------------------\")"
   ]
  },
  {
   "cell_type": "code",
   "execution_count": null,
   "metadata": {},
   "outputs": [],
   "source": []
  },
  {
   "cell_type": "code",
   "execution_count": 160,
   "metadata": {},
   "outputs": [],
   "source": [
    "#======================================================================================="
   ]
  },
  {
   "cell_type": "code",
   "execution_count": 159,
   "metadata": {},
   "outputs": [],
   "source": [
    " # class __dict__"
   ]
  },
  {
   "cell_type": "code",
   "execution_count": 24,
   "metadata": {},
   "outputs": [
    {
     "data": {
      "text/plain": [
       "({'y': 5}, dict)"
      ]
     },
     "execution_count": 24,
     "metadata": {},
     "output_type": "execute_result"
    }
   ],
   "source": [
    "class C(object):\n",
    "    x = 4\n",
    "\n",
    "c = C()\n",
    "c.y = 5\n",
    "c.__dict__, type(c.__dict__)\n"
   ]
  },
  {
   "cell_type": "code",
   "execution_count": 25,
   "metadata": {},
   "outputs": [
    {
     "data": {
      "text/plain": [
       "(4, 4)"
      ]
     },
     "execution_count": 25,
     "metadata": {},
     "output_type": "execute_result"
    }
   ],
   "source": [
    "c.x, C.x"
   ]
  },
  {
   "cell_type": "code",
   "execution_count": 20,
   "metadata": {},
   "outputs": [
    {
     "data": {
      "text/plain": [
       "(mappingproxy({'__module__': '__main__',\n",
       "               'x': 4,\n",
       "               '__dict__': <attribute '__dict__' of 'C' objects>,\n",
       "               '__weakref__': <attribute '__weakref__' of 'C' objects>,\n",
       "               '__doc__': None}),\n",
       " mappingproxy)"
      ]
     },
     "execution_count": 20,
     "metadata": {},
     "output_type": "execute_result"
    }
   ],
   "source": [
    "C.__dict__, type(C.__dict__)"
   ]
  },
  {
   "cell_type": "code",
   "execution_count": 21,
   "metadata": {},
   "outputs": [
    {
     "data": {
      "text/plain": [
       "True"
      ]
     },
     "execution_count": 21,
     "metadata": {},
     "output_type": "execute_result"
    }
   ],
   "source": [
    "# https://github.com/python/cpython/blob/3.7/Lib/_collections_abc.py#L691\n",
    "isinstance(C.__dict__  , collections.Mapping)"
   ]
  },
  {
   "cell_type": "code",
   "execution_count": 22,
   "metadata": {},
   "outputs": [
    {
     "data": {
      "text/plain": [
       "mappingproxy"
      ]
     },
     "execution_count": 22,
     "metadata": {},
     "output_type": "execute_result"
    }
   ],
   "source": [
    "type(type.__dict__)"
   ]
  },
  {
   "cell_type": "code",
   "execution_count": 23,
   "metadata": {},
   "outputs": [
    {
     "data": {
      "text/plain": [
       "mappingproxy({'__repr__': <slot wrapper '__repr__' of 'type' objects>,\n",
       "              '__call__': <slot wrapper '__call__' of 'type' objects>,\n",
       "              '__getattribute__': <slot wrapper '__getattribute__' of 'type' objects>,\n",
       "              '__setattr__': <slot wrapper '__setattr__' of 'type' objects>,\n",
       "              '__delattr__': <slot wrapper '__delattr__' of 'type' objects>,\n",
       "              '__init__': <slot wrapper '__init__' of 'type' objects>,\n",
       "              '__new__': <function type.__new__(*args, **kwargs)>,\n",
       "              'mro': <method 'mro' of 'type' objects>,\n",
       "              '__subclasses__': <method '__subclasses__' of 'type' objects>,\n",
       "              '__prepare__': <method '__prepare__' of 'type' objects>,\n",
       "              '__instancecheck__': <method '__instancecheck__' of 'type' objects>,\n",
       "              '__subclasscheck__': <method '__subclasscheck__' of 'type' objects>,\n",
       "              '__dir__': <method '__dir__' of 'type' objects>,\n",
       "              '__sizeof__': <method '__sizeof__' of 'type' objects>,\n",
       "              '__basicsize__': <member '__basicsize__' of 'type' objects>,\n",
       "              '__itemsize__': <member '__itemsize__' of 'type' objects>,\n",
       "              '__flags__': <member '__flags__' of 'type' objects>,\n",
       "              '__weakrefoffset__': <member '__weakrefoffset__' of 'type' objects>,\n",
       "              '__base__': <member '__base__' of 'type' objects>,\n",
       "              '__dictoffset__': <member '__dictoffset__' of 'type' objects>,\n",
       "              '__mro__': <member '__mro__' of 'type' objects>,\n",
       "              '__name__': <attribute '__name__' of 'type' objects>,\n",
       "              '__qualname__': <attribute '__qualname__' of 'type' objects>,\n",
       "              '__bases__': <attribute '__bases__' of 'type' objects>,\n",
       "              '__module__': <attribute '__module__' of 'type' objects>,\n",
       "              '__abstractmethods__': <attribute '__abstractmethods__' of 'type' objects>,\n",
       "              '__dict__': <attribute '__dict__' of 'type' objects>,\n",
       "              '__doc__': <attribute '__doc__' of 'type' objects>,\n",
       "              '__text_signature__': <attribute '__text_signature__' of 'type' objects>})"
      ]
     },
     "execution_count": 23,
     "metadata": {},
     "output_type": "execute_result"
    }
   ],
   "source": [
    "type.__dict__"
   ]
  },
  {
   "cell_type": "code",
   "execution_count": null,
   "metadata": {},
   "outputs": [],
   "source": []
  }
 ],
 "metadata": {
  "kernelspec": {
   "display_name": "Python 3",
   "language": "python",
   "name": "python3"
  },
  "language_info": {
   "codemirror_mode": {
    "name": "ipython",
    "version": 3
   },
   "file_extension": ".py",
   "mimetype": "text/x-python",
   "name": "python",
   "nbconvert_exporter": "python",
   "pygments_lexer": "ipython3",
   "version": "3.7.2"
  }
 },
 "nbformat": 4,
 "nbformat_minor": 2
}
