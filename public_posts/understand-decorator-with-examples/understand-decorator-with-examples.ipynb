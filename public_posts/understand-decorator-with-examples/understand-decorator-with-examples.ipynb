{
 "cells": [
  {
   "cell_type": "markdown",
   "metadata": {},
   "source": [
    "# Understand-Decorator-with-examples"
   ]
  },
  {
   "cell_type": "code",
   "execution_count": 2,
   "metadata": {},
   "outputs": [
    {
     "name": "stdout",
     "output_type": "stream",
     "text": [
      "entering\n",
      "0\n",
      "1\n",
      "2\n",
      "exiting\n",
      "-------------------\n",
      "entering\n",
      "0\n",
      "1\n",
      "2\n",
      "3\n",
      "4\n",
      "exiting\n"
     ]
    }
   ],
   "source": [
    "def func1():\n",
    "    print('entering')\n",
    "    \n",
    "    for i in range(3):\n",
    "        print(i)\n",
    "        \n",
    "    print('exiting')\n",
    "    \n",
    "func1()\n",
    "print(\"-------------------\")\n",
    "def func2():\n",
    "    print('entering')\n",
    "    \n",
    "    for i in range(5):\n",
    "        print(i)\n",
    "        \n",
    "    print('exiting')\n",
    "    \n",
    "func2()"
   ]
  },
  {
   "cell_type": "markdown",
   "metadata": {},
   "source": [
    "## Level-1: no - parameters"
   ]
  },
  {
   "cell_type": "code",
   "execution_count": 1,
   "metadata": {},
   "outputs": [
    {
     "name": "stdout",
     "output_type": "stream",
     "text": [
      "entering\n",
      "0\n",
      "1\n",
      "2\n",
      "exiting\n",
      "-------\n",
      "v1:  None\n",
      "-------------------\n",
      "entering\n",
      "0\n",
      "1\n",
      "exiting\n",
      "-------\n",
      "v1_2:  None\n"
     ]
    }
   ],
   "source": [
    "# v1\n",
    "def log1(func):\n",
    "    print('entering')\n",
    "    func()               # <-- func is called inside the log1, when log1 is called.\n",
    "    print('exiting')\n",
    "    # The return value of log1 is None.\n",
    "    \n",
    "def func1():\n",
    "    for i in range(3):\n",
    "        print(i)\n",
    "        \n",
    "def func1_2():\n",
    "    for i in range(2):\n",
    "        print(i)\n",
    "\n",
    "v1 = log1(func1)\n",
    "print(\"-------\")\n",
    "print('v1: ', v1)\n",
    "\n",
    "print(\"-------------------\")\n",
    "\n",
    "v1_2 = log1(func1_2)\n",
    "print(\"-------\")\n",
    "print('v1_2: ', v1_2)"
   ]
  },
  {
   "cell_type": "code",
   "execution_count": 16,
   "metadata": {},
   "outputs": [
    {
     "name": "stdout",
     "output_type": "stream",
     "text": [
      "Step in first-level of log2\n",
      "Exiting of first-level of log2\n",
      "-------------------\n",
      "f2:  <function log2.<locals>.inner at 0x7fae9851d400>\n",
      "-------------------\n",
      "entering\n",
      "0\n",
      "1\n",
      "2\n",
      "3\n",
      "4\n",
      "exiting\n"
     ]
    }
   ],
   "source": [
    "# v2    \n",
    "def log2(func):\n",
    "    print(\"Step in first-level of log2\")\n",
    "    def inner():\n",
    "        print('entering')\n",
    "        func()    \n",
    "        print('exiting')\n",
    "    print(\"Exiting of first-level of log2\")\n",
    "    return inner                # <-- The return value of log2 is function inner .\n",
    "                                # <-- Hence, log2 is a high-level function.\n",
    "    \n",
    "def func2():\n",
    "    for i in range(5):\n",
    "        print(i)\n",
    "    \n",
    "f2 = log2(func2)\n",
    "\n",
    "print(\"-------------------\")\n",
    "print('f2: ', f2)\n",
    "print(\"-------------------\")\n",
    "f2()                             # <-- func2 is called at this moment.\n",
    "\n",
    "\n"
   ]
  },
  {
   "cell_type": "code",
   "execution_count": 17,
   "metadata": {},
   "outputs": [
    {
     "name": "stdout",
     "output_type": "stream",
     "text": [
      "Step in first-level of log3\n",
      "Exiting of first-level of log3\n",
      "-------------------\n",
      "func3:  <function log3.<locals>.inner at 0x7fae9810eea0>\n",
      "-------------------\n",
      "entering\n",
      "0\n",
      "1\n",
      "exiting\n"
     ]
    }
   ],
   "source": [
    "# v3\n",
    "def log3(func):                 # <-- same as log2\n",
    "    print(\"Step in first-level of log3\")\n",
    "    def inner():\n",
    "        print('entering')\n",
    "        func()    \n",
    "        print('exiting')\n",
    "    print(\"Exiting of first-level of log3\")\n",
    "    return inner\n",
    "                                \n",
    "@log3                           # <-- grammar sugar: do the calling of `log3(func3)`.\n",
    "def func3(): \n",
    "    for i in range(2):\n",
    "        print(i)\n",
    "\n",
    "print(\"-------------------\")\n",
    "print('func3: ', func3)\n",
    "print(\"-------------------\")\n",
    "func3()\n"
   ]
  },
  {
   "cell_type": "markdown",
   "metadata": {},
   "source": [
    "## Level-2: parameter for inner "
   ]
  },
  {
   "cell_type": "code",
   "execution_count": 23,
   "metadata": {},
   "outputs": [
    {
     "name": "stdout",
     "output_type": "stream",
     "text": [
      "Step in first-level of log2\n",
      "Exiting of first-level of log2\n",
      "-------------------\n",
      "f2:  <function log2.<locals>.inner at 0x7fae8a635c80>\n",
      "-------------------\n",
      "entering\n",
      "DEBUG: fun2 accept param:  3\n",
      "0\n",
      "1\n",
      "2\n",
      "exiting\n"
     ]
    }
   ],
   "source": [
    "# v1\n",
    "\n",
    "# Note: The log2 defines that the passing in func must has a parameter-x .\n",
    "def log2(func):\n",
    "    print(\"Step in first-level of log2\")\n",
    "    def inner(x):\n",
    "        print('entering')\n",
    "        func(x)    \n",
    "        print('exiting')\n",
    "    print(\"Exiting of first-level of log2\")\n",
    "    return inner\n",
    "    \n",
    "    \n",
    "def func2(x):\n",
    "    print(\"DEBUG: fun2 accept param: \", x)\n",
    "    for i in range(x):\n",
    "        print(i)\n",
    "    \n",
    "f2 = log2(func2)\n",
    "\n",
    "print(\"-------------------\")\n",
    "print('f2: ', f2)\n",
    "print(\"-------------------\")\n",
    "f2(3)"
   ]
  },
  {
   "cell_type": "code",
   "execution_count": 24,
   "metadata": {},
   "outputs": [
    {
     "name": "stdout",
     "output_type": "stream",
     "text": [
      "Step in first-level of log\n",
      "Exiting of first-level of log\n",
      "-------------------\n",
      "func3:  <function log3.<locals>.inner at 0x7fae8a635ea0>\n",
      "-------------------\n",
      "entering\n",
      "DEBUG: fun3 accept param:  2\n",
      "0\n",
      "1\n",
      "exiting\n"
     ]
    }
   ],
   "source": [
    "# v2\n",
    "\n",
    "def log3(func):\n",
    "    print(\"Step in first-level of log\")\n",
    "    def inner(x):\n",
    "        print('entering')\n",
    "        func(x)    \n",
    "        print('exiting')\n",
    "    print(\"Exiting of first-level of log\")\n",
    "    return inner\n",
    "    \n",
    "\n",
    "@log3\n",
    "def func3(x):\n",
    "    print(\"DEBUG: fun3 accept param: \", x)\n",
    "    for i in range(x):\n",
    "        print(i)\n",
    "\n",
    "print(\"-------------------\")\n",
    "print('func3: ', func3)\n",
    "print(\"-------------------\")\n",
    "func3(2)"
   ]
  },
  {
   "cell_type": "markdown",
   "metadata": {},
   "source": [
    "## Level-3: parameter for outter  "
   ]
  },
  {
   "cell_type": "code",
   "execution_count": 26,
   "metadata": {},
   "outputs": [
    {
     "name": "stdout",
     "output_type": "stream",
     "text": [
      "Step in first-level of log\n",
      "Exiting of first-level of log\n",
      "-------------------\n",
      "f1:  <function log1.<locals>.inner at 0x7fae983a7488>\n",
      "-------------------\n",
      "entering\n",
      "MSG: Hi\n",
      "DEBUG: Run into fun1 ...\n",
      "0\n",
      "1\n",
      "exiting\n"
     ]
    }
   ],
   "source": [
    "# v1\n",
    "\n",
    "def log1(func, msg):                   # <-- log1 must accept 2 params together.\n",
    "    print(\"Step in first-level of log\")\n",
    "    def inner():\n",
    "        print('entering')\n",
    "        print(msg)                     # <-- this `msg` variable is passed into inner() inexplicitly.\n",
    "        func()    \n",
    "        print('exiting')\n",
    "    print(\"Exiting of first-level of log\")\n",
    "    return inner\n",
    "    \n",
    "def func1():\n",
    "    print(\"DEBUG: Run into fun1 ...\")\n",
    "    for i in range(2):\n",
    "        print(i)\n",
    "    \n",
    "f1 = log1(func1, 'MSG: Hi')\n",
    "\n",
    "print(\"-------------------\")\n",
    "print('f1: ', f1)\n",
    "print(\"-------------------\")\n",
    "f1()"
   ]
  },
  {
   "cell_type": "code",
   "execution_count": 30,
   "metadata": {},
   "outputs": [
    {
     "name": "stdout",
     "output_type": "stream",
     "text": [
      "Step in first-level of log\n",
      "Exiting of first-level of log\n",
      "-------------------\n",
      "_f2:  <function log2.<locals>.wrap at 0x7fae8a635e18>\n",
      "-------------------\n",
      "Step in second-level of log\n",
      "Exiting of second-level of log\n",
      "-------------------\n",
      "f2:  <function log2.<locals>.wrap.<locals>.inner at 0x7fae9810eb70>\n",
      "-------------------\n",
      "entering\n",
      "MSG: Hi\n",
      "DEBUG: Run into func2 ...\n",
      "0\n",
      "1\n",
      "exiting\n"
     ]
    }
   ],
   "source": [
    "# v2\n",
    "    \n",
    "def log2(func):                           # <-- split params <`func`, `msg`> to 2-levels.\n",
    "    print(\"Step in first-level of log\")\n",
    "    def wrap(msg):\n",
    "        print(\"Step in second-level of log\")\n",
    "        def inner():\n",
    "            print('entering')\n",
    "            print(msg)\n",
    "            func()                         # <-- Anyway, `func` and `msg` are passed into inner().\n",
    "            print('exiting')\n",
    "        print(\"Exiting of second-level of log\")\n",
    "        return inner\n",
    "    print(\"Exiting of first-level of log\")\n",
    "    return  wrap\n",
    "    \n",
    "def func2():\n",
    "    print(\"DEBUG: Run into func2 ...\")\n",
    "    for i in range(2):\n",
    "        print(i)\n",
    "\n",
    "_f2 = log2(func2)\n",
    "print(\"-------------------\")\n",
    "print('_f2: ', _f2)\n",
    "print(\"-------------------\")\n",
    "f2 = _f2('MSG: Hi')\n",
    "print(\"-------------------\")\n",
    "print('f2: ', f2)\n",
    "print(\"-------------------\")\n",
    "f2()"
   ]
  },
  {
   "cell_type": "code",
   "execution_count": 32,
   "metadata": {},
   "outputs": [
    {
     "name": "stdout",
     "output_type": "stream",
     "text": [
      "Step in first-level of log\n",
      "Exiting of first-level of log\n",
      "-------------------\n",
      "log3_hi:  <function log3.<locals>.wrap at 0x7fae8a6359d8>\n",
      "-------------------\n",
      "Step in second-level of log\n",
      "Exiting of second-level of log\n",
      "-------------------\n",
      "f3:  <function log3.<locals>.wrap.<locals>.inner at 0x7fae8a635d08>\n",
      "-------------------\n",
      "entering\n",
      "MSG: Hi\n",
      "DEBUG: Run into func3 ...\n",
      "0\n",
      "1\n",
      "2\n",
      "exiting\n"
     ]
    }
   ],
   "source": [
    "# v3\n",
    "    \n",
    "def log3(msg):                           # <-- Swap the calling order to <`msg`, `func`>.\n",
    "    print(\"Step in first-level of log\")\n",
    "    def wrap(func):\n",
    "        print(\"Step in second-level of log\")\n",
    "        def inner():\n",
    "            print('entering')\n",
    "            print(msg)\n",
    "            func()    \n",
    "            print('exiting')\n",
    "        print(\"Exiting of second-level of log\")\n",
    "        return inner\n",
    "    print(\"Exiting of first-level of log\")\n",
    "    return  wrap\n",
    "    \n",
    "    \n",
    "def func3():\n",
    "    print(\"DEBUG: Run into func3 ...\")\n",
    "    for i in range(3):\n",
    "        print(i)\n",
    "\n",
    "log3_hi = log3('MSG: Hi')\n",
    "print(\"-------------------\")\n",
    "print('log3_hi: ', log3_hi)\n",
    "print(\"-------------------\")\n",
    "f3 = log3_hi(func3)\n",
    "print(\"-------------------\")\n",
    "print('f3: ', f3)\n",
    "print(\"-------------------\")\n",
    "f3()"
   ]
  },
  {
   "cell_type": "code",
   "execution_count": 42,
   "metadata": {},
   "outputs": [
    {
     "name": "stdout",
     "output_type": "stream",
     "text": [
      "Step in first-level of log\n",
      "DEBUG: Pre-checking for msg: >> MSG: HI\n",
      "Exiting of first-level of log\n",
      "Step in second-level of log\n",
      "Exiting of second-level of log\n",
      "-------------------\n",
      "func4:  <function log4.<locals>.wrap.<locals>.inner at 0x7fae8a9a39d8>\n",
      "-------------------\n",
      "entering\n",
      "MSG: HI\n",
      "DEBUG: Run into func4 ...\n",
      "0\n",
      "1\n",
      "2\n",
      "exiting\n",
      "===================\n",
      "Step in first-level of log\n",
      "DEBUG: Pre-checking for msg: >> <function func4 at 0x7fae8a9a3598>\n"
     ]
    },
    {
     "ename": "TypeError",
     "evalue": "Expected msg to be a str",
     "output_type": "error",
     "traceback": [
      "\u001b[0;31m---------------------------------------------------------------------------\u001b[0m",
      "\u001b[0;31mTypeError\u001b[0m                                 Traceback (most recent call last)",
      "\u001b[0;32m<ipython-input-42-40c8d0338b5b>\u001b[0m in \u001b[0;36m<module>\u001b[0;34m\u001b[0m\n\u001b[1;32m     35\u001b[0m \u001b[0;34m\u001b[0m\u001b[0m\n\u001b[1;32m     36\u001b[0m \u001b[0;31m# ERROR-test: call without `msg`.\u001b[0m\u001b[0;34m\u001b[0m\u001b[0;34m\u001b[0m\u001b[0;34m\u001b[0m\u001b[0m\n\u001b[0;32m---> 37\u001b[0;31m \u001b[0;34m@\u001b[0m\u001b[0mlog4\u001b[0m                               \u001b[0;31m# <-- in such calling manner, log4 will accept `func4` as first param.\u001b[0m\u001b[0;34m\u001b[0m\u001b[0;34m\u001b[0m\u001b[0m\n\u001b[0m\u001b[1;32m     38\u001b[0m \u001b[0;32mdef\u001b[0m \u001b[0mfunc4\u001b[0m\u001b[0;34m(\u001b[0m\u001b[0;34m)\u001b[0m\u001b[0;34m:\u001b[0m\u001b[0;34m\u001b[0m\u001b[0;34m\u001b[0m\u001b[0m\n\u001b[1;32m     39\u001b[0m     \u001b[0mprint\u001b[0m\u001b[0;34m(\u001b[0m\u001b[0;34m\"DEBUG: Run into func4 ...\"\u001b[0m\u001b[0;34m)\u001b[0m\u001b[0;34m\u001b[0m\u001b[0;34m\u001b[0m\u001b[0m\n",
      "\u001b[0;32m<ipython-input-42-40c8d0338b5b>\u001b[0m in \u001b[0;36mlog4\u001b[0;34m(msg)\u001b[0m\n\u001b[1;32m      5\u001b[0m     \u001b[0mprint\u001b[0m\u001b[0;34m(\u001b[0m\u001b[0;34m\"DEBUG: Pre-checking for msg: >>\"\u001b[0m\u001b[0;34m,\u001b[0m \u001b[0mmsg\u001b[0m\u001b[0;34m)\u001b[0m\u001b[0;34m\u001b[0m\u001b[0;34m\u001b[0m\u001b[0m\n\u001b[1;32m      6\u001b[0m     \u001b[0;32mif\u001b[0m \u001b[0mmsg\u001b[0m \u001b[0;32mis\u001b[0m \u001b[0;32mNone\u001b[0m \u001b[0;32mor\u001b[0m \u001b[0;32mnot\u001b[0m \u001b[0misinstance\u001b[0m\u001b[0;34m(\u001b[0m\u001b[0mmsg\u001b[0m\u001b[0;34m,\u001b[0m \u001b[0mstr\u001b[0m\u001b[0;34m)\u001b[0m\u001b[0;34m:\u001b[0m\u001b[0;34m\u001b[0m\u001b[0;34m\u001b[0m\u001b[0m\n\u001b[0;32m----> 7\u001b[0;31m         \u001b[0;32mraise\u001b[0m \u001b[0mTypeError\u001b[0m\u001b[0;34m(\u001b[0m\u001b[0;34m'Expected msg to be a str'\u001b[0m\u001b[0;34m)\u001b[0m\u001b[0;34m\u001b[0m\u001b[0;34m\u001b[0m\u001b[0m\n\u001b[0m\u001b[1;32m      8\u001b[0m \u001b[0;34m\u001b[0m\u001b[0m\n\u001b[1;32m      9\u001b[0m     \u001b[0;32mdef\u001b[0m \u001b[0mwrap\u001b[0m\u001b[0;34m(\u001b[0m\u001b[0mfunc\u001b[0m\u001b[0;34m)\u001b[0m\u001b[0;34m:\u001b[0m\u001b[0;34m\u001b[0m\u001b[0;34m\u001b[0m\u001b[0m\n",
      "\u001b[0;31mTypeError\u001b[0m: Expected msg to be a str"
     ]
    }
   ],
   "source": [
    "# v4\n",
    "\n",
    "def log4(msg):                           # <-- Calling in order [`msg`, `func`].\n",
    "    print(\"Step in first-level of log\")\n",
    "    print(\"DEBUG: Pre-checking for msg: >>\", msg)\n",
    "    if msg is None or not isinstance(msg, str):\n",
    "        raise TypeError('Expected msg to be a str')\n",
    "        \n",
    "    def wrap(func):\n",
    "        print(\"Step in second-level of log\")\n",
    "        def inner():\n",
    "            print('entering')\n",
    "            print(msg)\n",
    "            func()    \n",
    "            print('exiting')\n",
    "        print(\"Exiting of second-level of log\")\n",
    "        return inner\n",
    "    print(\"Exiting of first-level of log\")\n",
    "    return  wrap\n",
    "    \n",
    "    \n",
    "@log4('MSG: HI')\n",
    "def func4():\n",
    "    print(\"DEBUG: Run into func4 ...\")\n",
    "    for i in range(3):\n",
    "        print(i)\n",
    "\n",
    "print(\"-------------------\")\n",
    "print('func4: ', func4)\n",
    "print(\"-------------------\")\n",
    "func4()\n",
    "\n",
    "print(\"===================\")\n",
    "\n",
    "\n",
    "# ERROR-test: call without `msg`.\n",
    "@log4                               # <-- in such calling manner, log4 will accept `func4` as first param.\n",
    "def func4():\n",
    "    print(\"DEBUG: Run into func4 ...\")\n",
    "    for i in range(3):\n",
    "        print(i)"
   ]
  },
  {
   "cell_type": "markdown",
   "metadata": {},
   "source": [
    "## Level-4: parameter for outter and inner"
   ]
  },
  {
   "cell_type": "code",
   "execution_count": 49,
   "metadata": {},
   "outputs": [
    {
     "name": "stdout",
     "output_type": "stream",
     "text": [
      "Step into add_tag with :  p\n",
      "Step out of add_tag, returning :  <function add_tag.<locals>.dec at 0x7fae8a9a30d0>\n",
      "Step into dec with :  <function hello at 0x7fae8a9a36a8>\n",
      "Step out of dec, returning :  <function add_tag.<locals>.dec.<locals>.wrap at 0x7fae8a9a3ea0>\n",
      "-------------------\n",
      "hello:  <function add_tag.<locals>.dec.<locals>.wrap at 0x7fae8a9a3ea0>\n",
      "-------------------\n",
      "-------------------\n",
      "<p>hello world</p>\n"
     ]
    }
   ],
   "source": [
    "def add_tag(tag):\n",
    "    print(\"Step into add_tag with : \", tag)\n",
    "    def dec(fn):\n",
    "        print(\"Step into dec with : \", fn)\n",
    "        def wrap(name):\n",
    "            return '<' + tag + '>' + fn(name) + '</' + tag + '>'\n",
    "        print(\"Step out of dec, returning : \", wrap)\n",
    "        return wrap\n",
    "    print(\"Step out of add_tag, returning : \", dec)\n",
    "    return dec\n",
    "    \n",
    "@add_tag('p')                  # <-- calling `add_tag('p')(hello)`\n",
    "def hello(i):\n",
    "    return 'hello ' + i\n",
    "\n",
    "print(\"-------------------\")\n",
    "print('hello: ', hello)\n",
    "print(\"-------------------\")\n",
    "null = hello('world')  # add_tag('p')(hello)('world')\n",
    "print(\"-------------------\")\n",
    "print(null)\n",
    "\n",
    "\n"
   ]
  },
  {
   "cell_type": "code",
   "execution_count": 51,
   "metadata": {},
   "outputs": [
    {
     "name": "stdout",
     "output_type": "stream",
     "text": [
      "Step into add_tag with :  i\n",
      "Step out of add_tag, returning :  <function add_tag.<locals>.dec at 0x7fae9b676048>\n",
      "Step into add_tag with :  p\n",
      "Step out of add_tag, returning :  <function add_tag.<locals>.dec at 0x7fae9810ec80>\n",
      "Step into dec with :  <function hello at 0x7fae9810ebf8>\n",
      "Step out of dec, returning :  <function add_tag.<locals>.dec.<locals>.wrap at 0x7fae9810e488>\n",
      "Step into dec with :  <function add_tag.<locals>.dec.<locals>.wrap at 0x7fae9810e488>\n",
      "Step out of dec, returning :  <function add_tag.<locals>.dec.<locals>.wrap at 0x7fae9810e950>\n",
      "-------------------\n",
      "hello:  <function add_tag.<locals>.dec.<locals>.wrap at 0x7fae9810e950>\n",
      "-------------------\n",
      "-------------------\n",
      "<i><p>hello world</p></i>\n"
     ]
    }
   ],
   "source": [
    "@add_tag('i')                  # <-- calling `add_tag('i')( add_tag('p')(hello) )\n",
    "@add_tag('p')                  # <-- What's the calling combination and order here ???\n",
    "def hello(i):\n",
    "    return 'hello ' + i\n",
    "\n",
    "print(\"-------------------\")\n",
    "print('hello: ', hello)\n",
    "print(\"-------------------\")\n",
    "null = hello('world')         # <-- add_tag('i')(add_tag('p')(hello))('world')\n",
    "print(\"-------------------\")\n",
    "print(null)\n"
   ]
  },
  {
   "cell_type": "code",
   "execution_count": 2,
   "metadata": {},
   "outputs": [
    {
     "name": "stdout",
     "output_type": "stream",
     "text": [
      "init add_tag with :  p\n",
      "call add_tag with :  <function hello at 0x7f664cf70268>\n",
      "-------------------\n",
      "hello:  <function add_tag.__call__.<locals>.wrap at 0x7f664cf70840>\n",
      "-------------------\n",
      "-------------------\n",
      "<p>hello world</p>\n"
     ]
    }
   ],
   "source": [
    "class add_tag(object):\n",
    "    def __init__(self, tag):\n",
    "        print(\"init add_tag with : \", tag)\n",
    "        self.tag = tag\n",
    "\n",
    "    def __call__(self, fn):\n",
    "        print(\"call add_tag with : \", fn)\n",
    "        def wrap(name):\n",
    "            return '<' + self.tag + '>' + fn(name) + '</' + self.tag + '>'\n",
    "        return wrap\n",
    "\n",
    "@add_tag('p')\n",
    "def hello(i):\n",
    "    return 'hello ' + i\n",
    "\n",
    "print(\"-------------------\")\n",
    "print('hello: ', hello)\n",
    "print(\"-------------------\")\n",
    "tmp = hello('world')\n",
    "print(\"-------------------\")\n",
    "print(tmp)"
   ]
  },
  {
   "cell_type": "code",
   "execution_count": null,
   "metadata": {},
   "outputs": [],
   "source": []
  },
  {
   "cell_type": "markdown",
   "metadata": {},
   "source": [
    "# Understand some examples in pep-0318"
   ]
  },
  {
   "cell_type": "code",
   "execution_count": 1,
   "metadata": {},
   "outputs": [
    {
     "name": "stdout",
     "output_type": "stream",
     "text": [
      "('kwds: ', {'versionadded': '2.2', 'author': 'Guido van Rossum'})\n",
      "('deocrate: f: ', <function mymethod at 0x7ff1667d9050>)\n",
      "('deocrate return: f: ', <function mymethod at 0x7ff1667d9050>)\n",
      "------------\n",
      "mymethod: \n",
      "('attrs: ', 'Guido van Rossum', ['f'])\n",
      "Hello world!\n"
     ]
    }
   ],
   "source": [
    "# https://www.python.org/dev/peps/pep-0318/\n",
    "# Example-3. Add attributes to a function. (Based on an example posted by Anders Munch on python-dev.)\n",
    "\n",
    "\"\"\"\n",
    "Calling process details: \n",
    "\n",
    "mymethod = attrs(versionadded=\"2.2\", author=\"Guido van Rossum\")(mymethod) \n",
    " = decorate(mymethod) \n",
    " = mymethod\n",
    " \n",
    "mymethod(f) = mymethod(f)   <-- same mymethod\n",
    "\"\"\"\n",
    "\n",
    "\n",
    "def attrs(**kwds):\n",
    "    print(\"kwds: \", kwds)\n",
    "    def decorate(f):\n",
    "        print(\"deocrate: f: \", f)\n",
    "        for k in kwds:\n",
    "            setattr(f, k, kwds[k])\n",
    "        print(\"deocrate return: f: \", f)\n",
    "        return f\n",
    "    return decorate\n",
    "\n",
    "@attrs(versionadded=\"2.2\",\n",
    "       author=\"Guido van Rossum\")\n",
    "def mymethod(f):\n",
    "    print(\"mymethod: \")\n",
    "    print(\"attrs: \", mymethod.author, dir())\n",
    "    print(f)\n",
    "\n",
    "print(\"------------\")\n",
    "\n",
    "mymethod(\"Hello world!\")"
   ]
  },
  {
   "cell_type": "code",
   "execution_count": 1,
   "metadata": {},
   "outputs": [
    {
     "name": "stdout",
     "output_type": "stream",
     "text": [
      "('1x-types: ', (<type 'int'>, (<type 'int'>, <type 'float'>)))\n",
      "('2x-check_accepts: ', <function check_accepts at 0x7ff518279050>)\n",
      "('3x-R: rtype: ', (<type 'int'>, <type 'float'>))\n",
      "('4x-R: check_returns: ', <function check_returns at 0x7ff5182792a8>)\n",
      "('5x-R: f: ', <function func at 0x7ff518279410>)\n",
      "('6x-R: new_f: ', <function new_f at 0x7ff518279578>)\n",
      "('7x-R: new_f: ', <function func at 0x7ff518279578>)\n",
      "('8x-f: ', <function func at 0x7ff518279578>)\n",
      "('f.func_code ', <code object new_f at 0x7ff51e0a0d30, file \"<ipython-input-1-cd7331cf56d3>\", line 51>)\n",
      "('f.func_code.co_argcount ', 0)\n",
      "('len(types): ', 2)\n",
      "('9x-new_f: ', <function new_f at 0x7ff518279b18>)\n",
      "('10x-new_f: ', <function func at 0x7ff518279b18>)\n",
      "11x----------\n",
      "('12x-', <function func at 0x7ff518279b18>)\n",
      "('13x-args, **kwds: ', (2, 3), {})\n",
      "('types: ', (<type 'int'>, (<type 'int'>, <type 'float'>)))\n",
      "('a, t: ', 2, <type 'int'>)\n",
      "('a, t: ', 3, (<type 'int'>, <type 'float'>))\n",
      "('14x-f in new_f: ', <function func at 0x7ff518279578>)\n",
      "('15x-f in new_f, passed in for check_accepts: ', 'func')\n",
      "('16x-R: args, **kwds: ', (2, 3), {})\n",
      "('R: f in new_f: ', <function func at 0x7ff518279410>)\n",
      "('F: func: ', <function func at 0x7ff518279b18>, 2, 3)\n",
      "('17x-R: result: ', 6)\n"
     ]
    },
    {
     "data": {
      "text/plain": [
       "6"
      ]
     },
     "execution_count": 1,
     "metadata": {},
     "output_type": "execute_result"
    }
   ],
   "source": [
    "# https://www.python.org/dev/peps/pep-0318/\n",
    "# Example-4. Enforce function argument and return types.\n",
    "#            Note that this copies the func_name attribute from the old to the new function.\n",
    "#            func_name was made writable in Python 2.4a3.\n",
    "\n",
    "\"\"\"\n",
    "Calling process details: \n",
    "\n",
    "func = accepts(int, (int, float)) (     returns((int,float)) (func)            )\n",
    " = check_accepts(        check_returns(func)                                   )\n",
    " = check_accepts(        returns'-new_f                                                 )\n",
    " = accepts'-new_f     # <-- of accepts\n",
    "\n",
    "func(2, 3)\n",
    " = accepts'-new_f(2, 3) \n",
    " = calling returns'-new_f(2, 3) as return\n",
    " = calling func(2, 3) and return result.\n",
    " \n",
    "More details see the printed messages in running result.\n",
    "\"\"\"\n",
    "\n",
    "\n",
    "def accepts(*types):\n",
    "    print(\"1x-types: \", types)                                           # < 1\n",
    "    def check_accepts(f):\n",
    "        print(\"8x-f: \", f)\n",
    "        print(\"f.func_code \", f.func_code)\n",
    "        print(\"f.func_code.co_argcount \", f.func_code.co_argcount)\n",
    "        print(\"len(types): \", len(types))\n",
    "        #assert len(types) == f.func_code.co_argcount\n",
    "        def new_f(*args, **kwds):\n",
    "            print(\"13x-args, **kwds: \", args, kwds)\n",
    "            print(\"types: \", types)\n",
    "            for (a, t) in zip(args, types):\n",
    "                print(\"a, t: \", a, t)\n",
    "                assert isinstance(a, t), \\\n",
    "                       \"arg %r does not match %s\" % (a,t)\n",
    "            print(\"14x-f in new_f: \", f)\n",
    "            print(\"15x-f in new_f, passed in for check_accepts: \", f.func_name)\n",
    "            return f(*args, **kwds)\n",
    "        print(\"9x-new_f: \", new_f)\n",
    "        new_f.func_name = f.func_name\n",
    "        print(\"10x-new_f: \", new_f)\n",
    "        return new_f\n",
    "    print(\"2x-check_accepts: \", check_accepts)\n",
    "    return check_accepts\n",
    "\n",
    "def returns(rtype):\n",
    "    print(\"3x-R: rtype: \", rtype)\n",
    "    def check_returns(f):\n",
    "        print(\"5x-R: f: \", f)\n",
    "        def new_f(*args, **kwds):\n",
    "            print(\"16x-R: args, **kwds: \", args, kwds)\n",
    "            print(\"R: f in new_f: \", f)\n",
    "            result = f(*args, **kwds)\n",
    "            assert isinstance(result, rtype), \\\n",
    "                   \"return value %r does not match %s\" % (result,rtype)\n",
    "            print(\"17x-R: result: \", result)\n",
    "            return result\n",
    "        print(\"6x-R: new_f: \", new_f)\n",
    "        new_f.func_name = f.func_name\n",
    "        print(\"7x-R: new_f: \", new_f)\n",
    "        return new_f\n",
    "    print(\"4x-R: check_returns: \", check_returns)\n",
    "    return check_returns\n",
    "\n",
    "@accepts(int, (int,float))\n",
    "@returns((int,float))\n",
    "def func(arg1, arg2):\n",
    "    print(\"F: func: \", func, arg1, arg2)\n",
    "    return arg1 * arg2\n",
    "\n",
    "print(\"11x----------\")\n",
    "print(\"12x-\", func)\n",
    "func(2, 3)"
   ]
  },
  {
   "cell_type": "code",
   "execution_count": null,
   "metadata": {},
   "outputs": [],
   "source": []
  },
  {
   "cell_type": "markdown",
   "metadata": {},
   "source": [
    "## How decorator works on a Class?"
   ]
  },
  {
   "cell_type": "code",
   "execution_count": 1,
   "metadata": {},
   "outputs": [
    {
     "name": "stdout",
     "output_type": "stream",
     "text": [
      "Class MyClass\n",
      "Step into singleton ...\n",
      "param cls:  <class '__main__.MyClass'>\n",
      "Step out singleton ...\n",
      "-------------------\n",
      "<function singleton.<locals>.getinstance at 0x7f664cf70598>\n",
      "-------------------\n",
      "Step into getinstance ...\n",
      "MyClass's __init__ ...\n",
      "Step out getinstance ...\n",
      "-------------------\n",
      "Step into getinstance ...\n",
      "Step out getinstance ...\n",
      "-------------------\n",
      "mc1, mc2:  <__main__.MyClass object at 0x7f664c710208> <__main__.MyClass object at 0x7f664c710208>\n",
      "-------------------\n",
      "mc1, mc2:  <__main__.MyClass object at 0x7f664c710208> <__main__.MyClass object at 0x7f664c710208>\n",
      "-------------------\n"
     ]
    }
   ],
   "source": [
    "# https://www.python.org/dev/peps/pep-0318/#examples\n",
    "# Example 2:\n",
    "\n",
    "def singleton(cls):\n",
    "    print(\"Step into singleton ...\")\n",
    "    print(\"param cls: \", cls)\n",
    "    instances = {}\n",
    "    def getinstance():\n",
    "        print(\"Step into getinstance ...\")\n",
    "        if cls not in instances:\n",
    "            instances[cls] = cls()\n",
    "        print(\"Step out getinstance ...\")\n",
    "        return instances[cls]\n",
    "    print(\"Step out singleton ...\")\n",
    "    return getinstance\n",
    "\n",
    "@singleton\n",
    "class MyClass:\n",
    "    print(\"Class MyClass\")\n",
    "    def __init__(self):\n",
    "        print(\"MyClass's __init__ ...\")\n",
    "\n",
    "print(\"-------------------\")\n",
    "print(MyClass)\n",
    "print(\"-------------------\")\n",
    "mc1 = MyClass()\n",
    "print(\"-------------------\")\n",
    "mc2 = MyClass()\n",
    "print(\"-------------------\")\n",
    "print(\"mc1, mc2: \", mc1, mc2)\n",
    "print(\"-------------------\")\n",
    "print(\"mc1, mc2: \", mc1, mc2)\n",
    "print(\"-------------------\")"
   ]
  },
  {
   "cell_type": "code",
   "execution_count": 6,
   "metadata": {},
   "outputs": [
    {
     "ename": "NameError",
     "evalue": "name 'Interface' is not defined",
     "output_type": "error",
     "traceback": [
      "\u001b[0;31m---------------------------------------------------------------------------\u001b[0m",
      "\u001b[0;31mNameError\u001b[0m                                 Traceback (most recent call last)",
      "\u001b[0;32m<ipython-input-6-572ec24e071d>\u001b[0m in \u001b[0;36m<module>\u001b[0;34m()\u001b[0m\n\u001b[1;32m     14\u001b[0m     \u001b[0;32mreturn\u001b[0m \u001b[0mprovides\u001b[0m\u001b[0;34m\u001b[0m\u001b[0m\n\u001b[1;32m     15\u001b[0m \u001b[0;34m\u001b[0m\u001b[0m\n\u001b[0;32m---> 16\u001b[0;31m \u001b[0;32mclass\u001b[0m \u001b[0mIBar\u001b[0m\u001b[0;34m(\u001b[0m\u001b[0mInterface\u001b[0m\u001b[0;34m)\u001b[0m\u001b[0;34m:\u001b[0m\u001b[0;34m\u001b[0m\u001b[0m\n\u001b[0m\u001b[1;32m     17\u001b[0m     \u001b[0;34m\"\"\"Declare something about IBar here\"\"\"\u001b[0m\u001b[0;34m\u001b[0m\u001b[0m\n\u001b[1;32m     18\u001b[0m     \u001b[0;32mpass\u001b[0m\u001b[0;34m\u001b[0m\u001b[0m\n",
      "\u001b[0;31mNameError\u001b[0m: name 'Interface' is not defined"
     ]
    }
   ],
   "source": [
    "# https://www.python.org/dev/peps/pep-0318/#examples\n",
    "# Example 5:\n",
    "\n",
    "\n",
    "def provides(*interfaces):\n",
    "    \"\"\"\n",
    "    An actual, working, implementation of provides for\n",
    "    the current implementation of PyProtocols.  Not\n",
    "    particularly important for the PEP text.\n",
    "    \"\"\"\n",
    "    def provides(typ):\n",
    "        declareImplementation(typ, instancesProvide=interfaces)\n",
    "        return typ\n",
    "    return provides\n",
    "\n",
    "class IBar(Interface):\n",
    "    \"\"\"Declare something about IBar here\"\"\"\n",
    "    pass\n",
    "\n",
    "@provides(IBar)\n",
    "class Foo(object):\n",
    "    \"\"\"Implement something here...\"\"\"\n",
    "    pass"
   ]
  },
  {
   "cell_type": "code",
   "execution_count": null,
   "metadata": {},
   "outputs": [],
   "source": []
  },
  {
   "cell_type": "code",
   "execution_count": null,
   "metadata": {},
   "outputs": [],
   "source": [
    "## Play with @functools.wraps()"
   ]
  },
  {
   "cell_type": "code",
   "execution_count": 8,
   "metadata": {},
   "outputs": [
    {
     "name": "stdout",
     "output_type": "stream",
     "text": [
      "('Step into add_tag with : ', 'p')\n",
      "('Step out of add_tag, returning : ', <function dec at 0x7ff518259c08>)\n",
      "('Step into dec with : ', <function hello at 0x7ff5182599b0>)\n",
      "('Step out of dec, returning : ', <function wrap at 0x7ff518259938>)\n",
      "-------------------\n",
      "('hello: ', <function wrap at 0x7ff518259938>, 'wrap')\n",
      "-------------------\n",
      "-------------------\n",
      "<p>hello world</p>\n"
     ]
    }
   ],
   "source": [
    "# The basic version of level-4 decorator\n",
    "\n",
    "def add_tag(tag):\n",
    "    print(\"Step into add_tag with : \", tag)\n",
    "    def dec(fn):\n",
    "        print(\"Step into dec with : \", fn)\n",
    "        def wrap(name):\n",
    "            return '<' + tag + '>' + fn(name) + '</' + tag + '>'\n",
    "        print(\"Step out of dec, returning : \", wrap)\n",
    "        return wrap\n",
    "    print(\"Step out of add_tag, returning : \", dec)\n",
    "    return dec\n",
    "    \n",
    "@add_tag('p')                  # <-- calling `add_tag('p')(hello)`\n",
    "def hello(i):\n",
    "    return 'hello ' + i\n",
    "\n",
    "print(\"-------------------\")\n",
    "print('hello: ', hello, hello.func_name)    # <-- this is wrap\n",
    "print(\"-------------------\")\n",
    "null = hello('world')  # add_tag('p')(hello)('world')\n",
    "print(\"-------------------\")\n",
    "print(null)"
   ]
  },
  {
   "cell_type": "code",
   "execution_count": 9,
   "metadata": {},
   "outputs": [
    {
     "name": "stdout",
     "output_type": "stream",
     "text": [
      "Step into add_tag with :  p\n",
      "Step out of add_tag, returning :  <function add_tag.<locals>.dec at 0x7fbaae7dd510>\n",
      "Step into dec with :  <function hello at 0x7fbaadf767b8>\n",
      "Step out of dec, returning :  <function add_tag.<locals>.dec.<locals>.wrap at 0x7fbaae7dd268>\n",
      "wrap.__name__, wrap.__qualname__:  wrap add_tag.<locals>.dec.<locals>.wrap\n",
      "['__annotations__', '__call__', '__class__', '__closure__', '__code__', '__defaults__', '__delattr__', '__dict__', '__dir__', '__doc__', '__eq__', '__format__', '__ge__', '__get__', '__getattribute__', '__globals__', '__gt__', '__hash__', '__init__', '__init_subclass__', '__kwdefaults__', '__le__', '__lt__', '__module__', '__name__', '__ne__', '__new__', '__qualname__', '__reduce__', '__reduce_ex__', '__repr__', '__setattr__', '__sizeof__', '__str__', '__subclasshook__']\n",
      "-------------------\n",
      "hello:  <function hello at 0x7fbaae7dd268> hello __main__ hello None\n",
      "['__annotations__', '__call__', '__class__', '__closure__', '__code__', '__defaults__', '__delattr__', '__dict__', '__dir__', '__doc__', '__eq__', '__format__', '__ge__', '__get__', '__getattribute__', '__globals__', '__gt__', '__hash__', '__init__', '__init_subclass__', '__kwdefaults__', '__le__', '__lt__', '__module__', '__name__', '__ne__', '__new__', '__qualname__', '__reduce__', '__reduce_ex__', '__repr__', '__setattr__', '__sizeof__', '__str__', '__subclasshook__']\n",
      "XXX\n",
      "-------------------\n",
      "-------------------\n",
      "<p>hello world</p>\n"
     ]
    }
   ],
   "source": [
    "# Base on level-4 decorator, Assign 'wrap' with the good name\n",
    "\n",
    "def add_tag(tag):\n",
    "    print(\"Step into add_tag with : \", tag)\n",
    "    def dec(fn):\n",
    "        print(\"Step into dec with : \", fn)\n",
    "        def wrap(name):\n",
    "            return '<' + tag + '>' + fn(name) + '</' + tag + '>'\n",
    "        print(\"Step out of dec, returning : \", wrap)\n",
    "        print(\"wrap.__name__, wrap.__qualname__: \", wrap.__name__, wrap.__qualname__)\n",
    "        #wrap.func_name = fn.func_name\n",
    "        wrap.__name__ = fn.__name__\n",
    "        wrap.__qualname__ = fn.__qualname__\n",
    "        print(dir(wrap))\n",
    "        return wrap\n",
    "    print(\"Step out of add_tag, returning : \", dec)\n",
    "    return dec\n",
    "    \n",
    "@add_tag('p')                  # <-- calling `add_tag('p')(hello)`\n",
    "def hello(i):\n",
    "    return 'hello ' + i\n",
    "\n",
    "print(\"-------------------\")\n",
    "print('hello: ', hello, hello.__name__, hello.__module__, hello.__qualname__, hello.__doc__)  # <-- this is wrap\n",
    "print(dir(hello))\n",
    "print(hello.func_name if \"func_name\" in dir(hello) else \"XXX\")\n",
    "print(\"-------------------\")\n",
    "null = hello('world')  # add_tag('p')(hello)('world')\n",
    "print(\"-------------------\")\n",
    "print(null)"
   ]
  },
  {
   "cell_type": "code",
   "execution_count": 4,
   "metadata": {},
   "outputs": [
    {
     "name": "stdout",
     "output_type": "stream",
     "text": [
      "Step into add_tag with :  p\n",
      "Step out of add_tag, returning :  <function add_tag.<locals>.dec at 0x7fbaadf61d08>\n",
      "Step into dec with :  <function hello at 0x7fbaadf76048>\n",
      "Step out of dec, returning :  <function hello at 0x7fbaadf76510>\n",
      "['__annotations__', '__call__', '__class__', '__closure__', '__code__', '__defaults__', '__delattr__', '__dict__', '__dir__', '__doc__', '__eq__', '__format__', '__ge__', '__get__', '__getattribute__', '__globals__', '__gt__', '__hash__', '__init__', '__init_subclass__', '__kwdefaults__', '__le__', '__lt__', '__module__', '__name__', '__ne__', '__new__', '__qualname__', '__reduce__', '__reduce_ex__', '__repr__', '__setattr__', '__sizeof__', '__str__', '__subclasshook__', '__wrapped__']\n",
      "-------------------\n",
      "hello:  <function hello at 0x7fbaadf76510>\n",
      "['__annotations__', '__call__', '__class__', '__closure__', '__code__', '__defaults__', '__delattr__', '__dict__', '__dir__', '__doc__', '__eq__', '__format__', '__ge__', '__get__', '__getattribute__', '__globals__', '__gt__', '__hash__', '__init__', '__init_subclass__', '__kwdefaults__', '__le__', '__lt__', '__module__', '__name__', '__ne__', '__new__', '__qualname__', '__reduce__', '__reduce_ex__', '__repr__', '__setattr__', '__sizeof__', '__str__', '__subclasshook__', '__wrapped__']\n",
      "XXX\n",
      "{'__wrapped__': <function hello at 0x7fbaadf76048>}\n",
      "-------------------\n",
      "-------------------\n",
      "<p>hello world</p>\n"
     ]
    }
   ],
   "source": [
    "# Base on level-4 decorator, use @functools.wraps()\n",
    "# https://github.com/python/cpython/blame/master/Lib/functools.py\n",
    "\n",
    "\n",
    "import functools\n",
    "def add_tag(tag):\n",
    "    print(\"Step into add_tag with : \", tag)\n",
    "    def dec(fn):\n",
    "        print(\"Step into dec with : \", fn)\n",
    "        @functools.wraps(fn)\n",
    "        def wrap(name):\n",
    "            return '<' + tag + '>' + fn(name) + '</' + tag + '>'\n",
    "        print(\"Step out of dec, returning : \", wrap)\n",
    "        #wrap.func_name = fn.func_name\n",
    "        print(dir(wrap))\n",
    "        return wrap\n",
    "    print(\"Step out of add_tag, returning : \", dec)\n",
    "    return dec\n",
    "    \n",
    "@add_tag('p')                  # <-- calling `add_tag('p')(hello)`\n",
    "def hello(i):\n",
    "    return 'hello ' + i\n",
    "\n",
    "print(\"-------------------\")\n",
    "print('hello: ', hello)  # <-- this is wrap\n",
    "print(dir(hello))\n",
    "print(hello.func_name if \"func_name\" in dir(hello) else \"XXX\")\n",
    "print(hello.__dict__)\n",
    "print(\"-------------------\")\n",
    "null = hello('world')  # add_tag('p')(hello)('world')\n",
    "print(\"-------------------\")\n",
    "print(null)"
   ]
  },
  {
   "cell_type": "code",
   "execution_count": null,
   "metadata": {},
   "outputs": [],
   "source": []
  }
 ],
 "metadata": {
  "kernelspec": {
   "display_name": "Python 3",
   "language": "python",
   "name": "python3"
  },
  "language_info": {
   "codemirror_mode": {
    "name": "ipython",
    "version": 3
   },
   "file_extension": ".py",
   "mimetype": "text/x-python",
   "name": "python",
   "nbconvert_exporter": "python",
   "pygments_lexer": "ipython3",
   "version": "3.7.2"
  }
 },
 "nbformat": 4,
 "nbformat_minor": 1
}
